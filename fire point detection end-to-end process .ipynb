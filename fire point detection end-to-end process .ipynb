{
 "cells": [
  {
   "cell_type": "markdown",
   "id": "d69562e8",
   "metadata": {},
   "source": [
    "### preprocessing data dan modelling"
   ]
  },
  {
   "cell_type": "code",
   "execution_count": null,
   "id": "0dfb9d6b",
   "metadata": {},
   "outputs": [],
   "source": [
    "import pandas as pd\n",
    "from scipy.stats import linregress\n",
    "\n",
    "# Read data dari file excel\n",
    "df = pd.read_excel('data 24 may.xlsx', sheet_name=['75', '70', '65', '60', '55', '50', '45', '40', '35', '30'])\n",
    "\n",
    "# Buat headers\n",
    "headers = ['SimpleRx Starting', 'Time', 'Module', 'Temperature', 'Humidity']\n",
    "\n",
    "# Looping untuk tiap sheet (untuk variasi jarak)\n",
    "for sheet_name in df.keys():\n",
    "    df[sheet_name].columns = headers\n",
    "    \n",
    "for sheet_name in df.keys():\n",
    "    # Convert kolom 'Time' menjadi tipe string\n",
    "    if not isinstance(df[sheet_name]['Time'].iloc[0], str):\n",
    "        df[sheet_name]['Time'] = df[sheet_name]['Time'].astype(str)\n",
    "\n",
    "    # Replace '.' dengan ':' pada kolom 'Time' \n",
    "    df[sheet_name]['Time'] = df[sheet_name]['Time'].str.replace('.', ':', regex=False)\n",
    "\n",
    "    # Konversi waktu ke detik 'TimeInSeconds'\n",
    "    df[sheet_name]['TimeInSeconds'] = pd.to_timedelta(df[sheet_name]['Time']).dt.total_seconds()\n",
    "    df[sheet_name]['TimeInSeconds'] -= df[sheet_name]['TimeInSeconds'].min() - 1\n",
    "\n",
    "    # Hapus duplicate rows berdasarkan semua kolom\n",
    "    df[sheet_name].drop_duplicates(inplace=True)\n",
    "\n",
    "print(df)"
   ]
  },
  {
   "cell_type": "code",
   "execution_count": null,
   "id": "c34945c2",
   "metadata": {
    "scrolled": true
   },
   "outputs": [],
   "source": [
    "import matplotlib.pyplot as plt\n",
    "\n",
    "# Buat plot temperatur terhadap waktu\n",
    "for sheet_name in df.keys():\n",
    "    plt.plot(df[sheet_name]['TimeInSeconds'], df[sheet_name]['Temperature'], label=sheet_name +' cm')\n",
    "\n",
    "plt.xlim(0, 300) \n",
    "plt.title(\"Plot Temperatur terhadap Waktu\")\n",
    "plt.ylabel(\"Temperatur (°C)\")\n",
    "plt.xlabel(\"Waktu (s)\")\n",
    "plt.legend()\n",
    "plt.show()"
   ]
  },
  {
   "cell_type": "code",
   "execution_count": null,
   "id": "768f9bd4",
   "metadata": {},
   "outputs": [],
   "source": [
    "# buat dataset yang berisi gradien dan jarak \n",
    "slopes = []\n",
    "for sheet_name in df.keys():\n",
    "    data = df[sheet_name]\n",
    "    slope, _, _, _, _ = linregress(data['TimeInSeconds'], data['Temperature'])\n",
    "    slopes_dict = {'Jarak (cm)': sheet_name, 'Gradien': slope}\n",
    "    slopes.append(slopes_dict)\n",
    "    \n",
    "df_slopes = pd.DataFrame(slopes)\n",
    "df_slopes"
   ]
  },
  {
   "cell_type": "code",
   "execution_count": null,
   "id": "7327e741",
   "metadata": {},
   "outputs": [],
   "source": [
    "# Convert tipe data ke integer\n",
    "df_slopes['Jarak (cm)'] = df_slopes['Jarak (cm)'].astype(int)\n",
    "print(df_slopes.dtypes)"
   ]
  },
  {
   "cell_type": "code",
   "execution_count": null,
   "id": "efee532e",
   "metadata": {},
   "outputs": [],
   "source": [
    "import matplotlib.pyplot as plt\n",
    "from scipy.stats import linregress\n",
    "\n",
    "# Fitting regresi linear untuk gradien terhadap jarak \n",
    "slope, intercept, r_value, p_value, std_err = linregress(df_slopes['Jarak (cm)'], df_slopes['Gradien'])\n",
    "equation = f\"y = {slope:.5f}x + {intercept:.5f}\"\n",
    "r_squared = r_value**2\n",
    "\n",
    "# Plot regresi linear \n",
    "plt.plot(df_slopes['Jarak (cm)'], df_slopes['Gradien'], 'o', label='Data')\n",
    "plt.plot(df_slopes['Jarak (cm)'], intercept + slope * df_slopes['Jarak (cm)'], 'r', label='Regresi Linear')\n",
    "plt.xlabel('Jarak (cm)')\n",
    "plt.ylabel('Gradien')\n",
    "plt.title(\"Plot Gradien terhadap Jarak\")\n",
    "plt.legend()\n",
    "plt.text(0.55, 0.5, f\"{equation}\\nR²= {r_squared:.2f}\", transform=plt.gca().transAxes)\n",
    "plt.show()"
   ]
  },
  {
   "cell_type": "markdown",
   "id": "581f3f5f",
   "metadata": {},
   "source": [
    "### test menggunakan random data"
   ]
  },
  {
   "cell_type": "code",
   "execution_count": null,
   "id": "3739bad8",
   "metadata": {},
   "outputs": [],
   "source": [
    "import pandas as pd\n",
    "from scipy.stats import linregress\n",
    "\n",
    "# Read data dari file csv \n",
    "df_test = pd.read_csv('random16.csv', sep=';', header = None)\n",
    "actual_position = (-10,15) # ganti dengan titik aktual\n",
    "circle_radius = 5\n",
    "\n",
    "# Buat headers\n",
    "headers = ['SimpleRx Starting', 'Time', 'Module', 'Temperature', 'Humidity']\n",
    "df_test.columns = headers\n",
    "\n",
    "# Convert kolom 'Time' menjadi tipe string\n",
    "if not isinstance(df_test['Time'].iloc[0], str):\n",
    "    df_test['Time'] = df_test['Time'].astype(str)\n",
    "\n",
    "# Replace '.' dengan ':' pada kolom 'Time' \n",
    "df_test['Time'] = df_test['Time'].str.replace('.', ':', regex=False)\n",
    "\n",
    "# Konversi waktu ke detik 'TimeInSeconds'\n",
    "df_test['TimeInSeconds'] = pd.to_timedelta(df_test['Time']).dt.total_seconds()  \n",
    "df_test['TimeInSeconds'] -= df_test['TimeInSeconds'].min() - 1  # kurangi dengan nilai minimum dan tambahkan 1\n",
    "df_test = df_test[(df_test['TimeInSeconds']>=0)  & (df_test['TimeInSeconds']<=350)]\n",
    "\n",
    "# Sorting data berdaasrkan sensor (A, B, C, D)\n",
    "df_test = df_test.sort_values(by='TimeInSeconds')\n",
    "df_test"
   ]
  },
  {
   "cell_type": "code",
   "execution_count": null,
   "id": "41da1931",
   "metadata": {},
   "outputs": [],
   "source": [
    "# Hitung gradien untuk tiap titik sensor \n",
    "slopes = []\n",
    "points = df_test['Module'].unique()\n",
    "for point in points:\n",
    "    data = df_test[df_test['Module'] == point]\n",
    "    slopeT, interceptT, _, _, _ = linregress(data['TimeInSeconds'], data['Temperature'])\n",
    "    slopes.append(slopeT)\n",
    "\n",
    "df_test_slopes = pd.DataFrame({'Module': points, 'Slope': slopes})\n",
    "df_test_slopes = df_test_slopes.sort_values(by='Module', ascending=True)\n",
    "df_test_slopes"
   ]
  },
  {
   "cell_type": "code",
   "execution_count": null,
   "id": "05e72b69",
   "metadata": {},
   "outputs": [],
   "source": [
    "# Plot tiap titik sensor\n",
    "fig, ax = plt.subplots()\n",
    "for i, point in enumerate(points):\n",
    "    data = df_test[df_test['Module'] == point]\n",
    "    ax.scatter(data['TimeInSeconds'], data['Temperature'], label=point, s=2)\n",
    "    \n",
    "ax.set_xlabel('Waktu (s)')\n",
    "ax.set_ylabel('Temperatur (°C)')\n",
    "ax.legend()\n",
    "plt.show()"
   ]
  },
  {
   "cell_type": "code",
   "execution_count": null,
   "id": "32a69521",
   "metadata": {},
   "outputs": [],
   "source": [
    "predicted_distance = (df_test_slopes['Slope'] - intercept) / slope\n",
    "distance_pred = pd.DataFrame({'Distance': predicted_distance})\n",
    "\n",
    "df_merged = pd.concat([df_test_slopes, distance_pred], axis=1)\n",
    "df_merged"
   ]
  },
  {
   "cell_type": "code",
   "execution_count": null,
   "id": "e19f05d4",
   "metadata": {},
   "outputs": [],
   "source": [
    "import numpy as np\n",
    "from matplotlib.patches import Circle\n",
    "\n",
    "# Koordinat sensor-sensor yang digunakan dalam deteksi (koordinat sensor suhu)\n",
    "sensor_coords = np.array([\n",
    "    [0, 50],\n",
    "    [50, 0],\n",
    "    [0, -50],\n",
    "    [-50, 0]\n",
    "])\n",
    "\n",
    "sensor_labels = ['A', 'B', 'C', 'D']\n",
    "\n",
    "# Jarak antara setiap sensor dengan titik api (predicted distance) \n",
    "d1 = df_merged[df_merged['Module'] == 'A']['Distance'].values[0]\n",
    "d2 = df_merged[df_merged['Module'] == 'B']['Distance'].values[0]\n",
    "d3 = df_merged[df_merged['Module'] == 'C']['Distance'].values[0]\n",
    "d4 = df_merged[df_merged['Module'] == 'D']['Distance'].values[0]\n",
    "\n",
    "distances = np.array([d1, d2, d3, d4])\n",
    "\n",
    "# Multilaterasi\n",
    "def multilateration(sensor_coords, distances):\n",
    "    A = 2 * (sensor_coords[1:] - sensor_coords[0])\n",
    "    b = np.square(sensor_coords[1:, 0]) + np.square(sensor_coords[1:, 1]) - np.square(sensor_coords[0, 0]) - np.square(sensor_coords[0, 1]) - np.square(distances[1:]) + np.square(distances[0])\n",
    "    # Menghitung posisi menggunakan metode least squares\n",
    "    try:\n",
    "        position = np.linalg.solve(A.T @ A, A.T @ b)\n",
    "        return position\n",
    "    except np.linalg.LinAlgError:\n",
    "        return None\n",
    "\n",
    "estimated_position = multilateration(sensor_coords, distances)\n",
    "    \n",
    "# Membuat plot\n",
    "fig, ax = plt.subplots()\n",
    "# Tambah lingkaran untuk posisi aktual & prediksi\n",
    "patch_circle_actual = Circle((actual_position[0], actual_position[1]), circle_radius,fill=True, color='yellow', linestyle='solid', zorder=0, label='Posisi Api Aktual')\n",
    "ax.add_patch(patch_circle_actual)\n",
    "ax.scatter(sensor_coords[:, 0], sensor_coords[:, 1], color='dodgerblue', label='Sensor')\n",
    "ax.scatter(estimated_position[0], estimated_position[1], color='red', label='Posisi Api Prediksi')\n",
    "\n",
    "# Plot lingkaran untuk setiap jarak prediksi\n",
    "for i in range(len(distances)):\n",
    "    circle = Circle((sensor_coords[i][0], sensor_coords[i][1]), distances[i], fill=False, color='gray', linestyle='dashed', zorder=1)\n",
    "    ax.add_patch(circle)\n",
    "    ax.text(sensor_coords[i][0]+3, sensor_coords[i][1], sensor_labels[i], ha='left', va='center', color='black')\n",
    "\n",
    "ax.text(estimated_position[0]+10, estimated_position[1]-4, f\"({estimated_position[0]:.2f}, {estimated_position[1]:.2f})\", ha='center', va='top', color='black')\n",
    "ax.set_xlabel('X')\n",
    "ax.set_ylabel('Y')\n",
    "ax.legend()\n",
    "ax.grid(True, alpha=0.2)\n",
    "ax.set_title('Prediksi Posisi Titik Api')\n",
    "plt.axis('equal')  \n",
    "ax.set_xlim(-70, 70)\n",
    "ax.set_ylim(-70, 70)\n",
    "plt.show()"
   ]
  },
  {
   "cell_type": "code",
   "execution_count": null,
   "id": "f44587de",
   "metadata": {},
   "outputs": [],
   "source": [
    "print(\"Estimated position: ({:.2f}, {:.2f})\".format(round(estimated_position[0], 2), round(estimated_position[1], 2)))"
   ]
  },
  {
   "cell_type": "code",
   "execution_count": null,
   "id": "81d36327",
   "metadata": {},
   "outputs": [],
   "source": [
    "import numpy as np\n",
    "\n",
    "actual_x = actual_position[0]\n",
    "actual_y = actual_position[1]\n",
    "predicted_x = estimated_position[0]\n",
    "predicted_y = estimated_position[1]\n",
    "\n",
    "euclidean_distance = np.sqrt((actual_x - predicted_x)**2 + (actual_y - predicted_y)**2)\n",
    "print(\"Euclidean distance:\", euclidean_distance)\n",
    "\n",
    "if euclidean_distance < 5:\n",
    "    print(\"The predicted point is within the range of the actual point.\")\n",
    "else:\n",
    "    print(\"The predicted point is outside the range of the actual point.\")\n"
   ]
  }
 ],
 "metadata": {
  "kernelspec": {
   "display_name": "Python 3 (ipykernel)",
   "language": "python",
   "name": "python3"
  },
  "language_info": {
   "codemirror_mode": {
    "name": "ipython",
    "version": 3
   },
   "file_extension": ".py",
   "mimetype": "text/x-python",
   "name": "python",
   "nbconvert_exporter": "python",
   "pygments_lexer": "ipython3",
   "version": "3.9.13"
  }
 },
 "nbformat": 4,
 "nbformat_minor": 5
}
